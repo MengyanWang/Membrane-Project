{
 "cells": [
  {
   "cell_type": "code",
   "execution_count": 20,
   "id": "7600d748",
   "metadata": {},
   "outputs": [],
   "source": [
    "from VectorAlgebra import *\n",
    "from Bio.PDB import PDBParser"
   ]
  },
  {
   "cell_type": "code",
   "execution_count": 21,
   "id": "8fa34a88",
   "metadata": {},
   "outputs": [],
   "source": [
    "def checkIfNative(xyz_CAi, xyz_CAj):\n",
    "    v = vector(xyz_CAi, xyz_CAj)\n",
    "    r = vabs(v)\n",
    "    if r< 9.5: return True\n",
    "    else: return False"
   ]
  },
  {
   "cell_type": "code",
   "execution_count": 29,
   "id": "52c485c7",
   "metadata": {},
   "outputs": [
    {
     "name": "stdout",
     "output_type": "stream",
     "text": [
      "Common surface residue:\n",
      "8 16 23 27 28 31 32 53 57 60 61 65 69 71 86 88 89 92 93 95 116 118 295 324 325 326 327 328 368 369 372 373 374 375 379 380 383 384 387 390 391 417 419 441 460 "
     ]
    }
   ],
   "source": [
    "# Initialize PDB Parser\n",
    "p = PDBParser()\n",
    "\n",
    "# Define range of PDB files to loop over\n",
    "pdb_files = [f\"standardFrames//end-{i}_s.pdb\" for i in range(1, 21)]\n",
    "\n",
    "# Initialize a list to store sets of surface residues for each structure\n",
    "surface_residues_sets = []\n",
    "\n",
    "# Loop over PDB files\n",
    "for pdb_file in pdb_files:\n",
    "\n",
    "    # Load the structure\n",
    "    structure = p.get_structure('protein', pdb_file)\n",
    "\n",
    "    # List of residues\n",
    "    residues = list(structure.get_residues())\n",
    "\n",
    "    # Initialize a dictionary to hold the count of contacts for each residue\n",
    "    contacts = {res: 0 for res in residues}\n",
    "\n",
    "    # Loop over every pair of residues\n",
    "    for i in range(len(residues)):\n",
    "        for j in range(i+1, len(residues)):\n",
    "            res_i = residues[i]\n",
    "            res_j = residues[j]\n",
    "\n",
    "            # Get the CA atoms\n",
    "            ca_i = res_i['CA'].get_coord()\n",
    "            ca_j = res_j['CA'].get_coord()\n",
    "\n",
    "            # Check if the residues are in contact\n",
    "            if checkIfNative(ca_i, ca_j):\n",
    "                contacts[res_i] += 1\n",
    "                contacts[res_j] += 1\n",
    "\n",
    "    # Filter out the surface residues (those with less than 20 contacts)\n",
    "    surface_residues = {res for res, count in contacts.items() if count < 20}\n",
    "    \n",
    "    # Add this set of surface residues to the list\n",
    "    surface_residues_sets.append(surface_residues)\n",
    "\n",
    "# Find the intersection of all sets of surface residues\n",
    "common_surface_residues = set.intersection(*surface_residues_sets)\n",
    "\n",
    "# Print out the common surface residues\n",
    "print(\"Common surface residue:\")\n",
    "resid_ids = []\n",
    "for res in common_surface_residues:\n",
    "    resid_ids.append(res.get_id()[1])\n",
    "    \n",
    "resid_ids_sort = sorted(resid_ids)\n",
    "\n",
    "for res_id in resid_ids_sort:\n",
    "    print(res_id, end=\" \")"
   ]
  },
  {
   "cell_type": "code",
   "execution_count": 35,
   "id": "426417ac",
   "metadata": {},
   "outputs": [
    {
     "name": "stdout",
     "output_type": "stream",
     "text": [
      "Common positively charged surface residues:\n",
      "373 380 383 391 \n",
      "Common negatively charged surface residues:\n",
      "369 379 390 "
     ]
    }
   ],
   "source": [
    "# Define sets of charged residues\n",
    "positive_residues = {'ARG', 'LYS', 'HIS'}\n",
    "negative_residues = {'ASP', 'GLU'}\n",
    "\n",
    "# Find the intersection of all sets of surface residues\n",
    "common_surface_residues = set.intersection(*surface_residues_sets)\n",
    "\n",
    "# Initialize lists for positive and negative residues\n",
    "positive_common_surface_residues = []\n",
    "negative_common_surface_residues = []\n",
    "\n",
    "# Classify common surface residues as positive or negative\n",
    "for res in common_surface_residues:\n",
    "    if res.get_resname() in positive_residues:\n",
    "        positive_common_surface_residues.append(res)\n",
    "    elif res.get_resname() in negative_residues:\n",
    "        negative_common_surface_residues.append(res)\n",
    "\n",
    "# Print out the common positive and negative surface residues\n",
    "positive_resid_ids = []\n",
    "print(\"Common positively charged surface residues:\")\n",
    "for res in positive_common_surface_residues:\n",
    "    positive_resid_ids.append(res.get_id()[1])\n",
    "\n",
    "positive_resid_ids_sort = sorted(positive_resid_ids)\n",
    "\n",
    "for res_id in positive_resid_ids_sort:\n",
    "    print(res_id,end=\" \")\n",
    "\n",
    "negative_resid_ids = []\n",
    "print(\"\\nCommon negatively charged surface residues:\")\n",
    "for res in negative_common_surface_residues:\n",
    "    negative_resid_ids.append(res.get_id()[1])\n",
    "\n",
    "negative_resid_ids_sort = sorted(negative_resid_ids)\n",
    "\n",
    "for res_id in negative_resid_ids_sort:\n",
    "    print(res_id,end=\" \")\n",
    "\n",
    "# print(\"Common negatively charged surface residues:\")\n",
    "# for res in negative_common_surface_residues:\n",
    "#     print(res.get_id()[1],end=\" \")\n"
   ]
  },
  {
   "cell_type": "code",
   "execution_count": null,
   "id": "1446eb67",
   "metadata": {},
   "outputs": [],
   "source": []
  }
 ],
 "metadata": {
  "kernelspec": {
   "display_name": "Python 3 (ipykernel)",
   "language": "python",
   "name": "python3"
  },
  "language_info": {
   "codemirror_mode": {
    "name": "ipython",
    "version": 3
   },
   "file_extension": ".py",
   "mimetype": "text/x-python",
   "name": "python",
   "nbconvert_exporter": "python",
   "pygments_lexer": "ipython3",
   "version": "3.9.12"
  }
 },
 "nbformat": 4,
 "nbformat_minor": 5
}
