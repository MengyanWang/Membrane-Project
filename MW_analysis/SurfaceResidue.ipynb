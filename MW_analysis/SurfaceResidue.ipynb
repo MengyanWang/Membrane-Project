{
 "cells": [
  {
   "cell_type": "code",
   "execution_count": 7,
   "id": "d9d35813",
   "metadata": {},
   "outputs": [],
   "source": [
    "from VectorAlgebra import *\n",
    "from Bio.PDB import PDBParser"
   ]
  },
  {
   "cell_type": "code",
   "execution_count": 8,
   "id": "d76091db",
   "metadata": {},
   "outputs": [],
   "source": [
    "def checkIfNative(xyz_CAi, xyz_CAj):\n",
    "    v = vector(xyz_CAi, xyz_CAj)\n",
    "    r = vabs(v)\n",
    "    if r< 9.5: return True\n",
    "    else: return False"
   ]
  },
  {
   "cell_type": "code",
   "execution_count": 26,
   "id": "d9be028b",
   "metadata": {},
   "outputs": [
    {
     "name": "stdout",
     "output_type": "stream",
     "text": [
      "Surface Residues:\n",
      "1 2 3 4 5 6 7 8 9 10 11 12 13 16 17 18 23 24 25 26 27 28 29 30 31 32 33 34 35 36 37 38 39 40 41 42 43 44 45 46 47 48 49 50 51 52 53 56 57 59 60 61 62 63 64 65 66 67 68 69 70 71 72 73 74 75 76 77 78 79 82 83 84 85 86 87 88 89 90 91 92 93 94 95 96 97 98 99 100 101 102 108 111 115 116 118 125 126 127 128 129 130 132 133 141 142 144 146 147 151 152 153 154 155 156 163 164 165 166 167 168 169 170 171 172 173 174 175 176 177 178 179 180 181 182 186 188 189 190 191 194 196 197 198 199 200 201 202 203 204 205 206 207 208 209 210 211 212 213 216 229 230 231 242 243 245 246 263 271 272 273 274 275 276 277 278 279 280 281 282 283 284 292 293 294 295 296 298 299 300 301 310 317 321 322 323 324 325 326 327 328 339 340 341 342 343 344 345 358 359 361 362 365 366 368 369 370 371 372 373 374 375 376 377 378 379 380 382 383 384 386 387 390 391 392 413 414 417 418 419 420 421 430 435 436 440 441 442 451 452 454 456 457 458 459 460 466 471 479 480 481 495 "
     ]
    }
   ],
   "source": [
    "# Load the structure\n",
    "p = PDBParser()\n",
    "structure = p.get_structure('protein', 'standardFrames//end-1_s.pdb')\n",
    "\n",
    "# List of residues\n",
    "residues = list(structure.get_residues())\n",
    "\n",
    "# Initialize a dictionary to hold the count of contacts for each residue\n",
    "contacts = {res: 0 for res in residues}\n",
    "\n",
    "# Loop over every pair of residues\n",
    "for i in range(len(residues)):\n",
    "    for j in range(i+1, len(residues)):\n",
    "        res_i = residues[i]\n",
    "        res_j = residues[j]\n",
    "        \n",
    "        # Get the CA atoms\n",
    "        ca_i = res_i['CA'].get_coord()\n",
    "        ca_j = res_j['CA'].get_coord()\n",
    "        \n",
    "        # Check if the residues are in contact\n",
    "        if checkIfNative(ca_i, ca_j):\n",
    "            contacts[res_i] += 1\n",
    "            contacts[res_j] += 1\n",
    "\n",
    "# Filter out the surface residues (those with less than 20 contacts)\n",
    "surface_residues = [res for res, count in contacts.items() if count < 20]\n",
    "\n",
    "# Print out the surface residues\n",
    "print('Surface Residues:')\n",
    "for res in surface_residues:\n",
    "    print(f\"{res.get_id()[1]}\",end=' ')\n",
    "#     print(f\"Surface residue: {res.get_resname()} {res.get_id()[1]}\")\n",
    "        "
   ]
  },
  {
   "cell_type": "code",
   "execution_count": 24,
   "id": "bfd31131",
   "metadata": {},
   "outputs": [
    {
     "name": "stdout",
     "output_type": "stream",
     "text": [
      "Positively charged surface residues:\n",
      "144 272 273 298 365 366 370 371 373 380 383 386 391 418 440 \n",
      "Negatively charged surface residues:\n",
      "5 49 99 141 147 204 301 339 359 361 362 369 379 390 421 430 "
     ]
    }
   ],
   "source": [
    "# Define sets of charged residues\n",
    "positive_residues = {'ARG', 'LYS', 'HIS'}\n",
    "negative_residues = {'ASP', 'GLU'}\n",
    "\n",
    "# Find the intersection of all sets of surface residues\n",
    "# surface_residues = set.intersection(*surface_residues_sets)\n",
    "\n",
    "# Initialize lists for positive and negative residues\n",
    "positive_surface_residues = []\n",
    "negative_surface_residues = []\n",
    "\n",
    "# Classify common surface residues as positive or negative\n",
    "for res in surface_residues:\n",
    "    if res.get_resname() in positive_residues:\n",
    "        positive_surface_residues.append(res)\n",
    "    elif res.get_resname() in negative_residues:\n",
    "        negative_surface_residues.append(res)\n",
    "\n",
    "# Print out the common positive and negative surface residues\n",
    "print(\"Positively charged surface residues:\")\n",
    "for res in positive_surface_residues:\n",
    "    print(res.get_id()[1],end=\" \")\n",
    "\n",
    "print(\"\\nNegatively charged surface residues:\")\n",
    "for res in negative_surface_residues:\n",
    "    print(res.get_id()[1],end=\" \")"
   ]
  },
  {
   "cell_type": "code",
   "execution_count": null,
   "id": "f840734b",
   "metadata": {},
   "outputs": [],
   "source": []
  }
 ],
 "metadata": {
  "kernelspec": {
   "display_name": "Python 3 (ipykernel)",
   "language": "python",
   "name": "python3"
  },
  "language_info": {
   "codemirror_mode": {
    "name": "ipython",
    "version": 3
   },
   "file_extension": ".py",
   "mimetype": "text/x-python",
   "name": "python",
   "nbconvert_exporter": "python",
   "pygments_lexer": "ipython3",
   "version": "3.9.12"
  }
 },
 "nbformat": 4,
 "nbformat_minor": 5
}
