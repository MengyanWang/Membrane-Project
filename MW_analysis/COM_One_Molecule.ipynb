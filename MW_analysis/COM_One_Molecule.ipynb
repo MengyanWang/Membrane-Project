{
 "cells": [
  {
   "cell_type": "code",
   "execution_count": 3,
   "id": "d8b4d947",
   "metadata": {},
   "outputs": [
    {
     "name": "stderr",
     "output_type": "stream",
     "text": [
      "@> 288 atoms and 1 coordinate set(s) were parsed in 0.00s.\n"
     ]
    },
    {
     "name": "stdout",
     "output_type": "stream",
     "text": [
      "[[ 1.42087153 -1.80407986  8.53650347]]\n"
     ]
    }
   ],
   "source": [
    "import prody as pd\n",
    "import numpy as np\n",
    "\n",
    "pdb = pd.parsePDB(\"//home/mw88//research//n17 simulaiton//below.pdb\")\n",
    "\n",
    "coords = pdb.getCoordsets()\n",
    "\n",
    "coords = np.reshape(coords, (coords.shape[0],-1,3))\n",
    "\n",
    "com_list = []\n",
    "\n",
    "com = pd.calcCenter(coords)\n",
    "\n",
    "print(com)"
   ]
  },
  {
   "cell_type": "code",
   "execution_count": null,
   "id": "6cb7ff48",
   "metadata": {},
   "outputs": [],
   "source": [
    "# surf 15: [[ 1.42087153 -1.80407986 15.03650347]]\n",
    "# above:   [[ 1.42087153 -1.80407986 21.53650347]]\n",
    "# below:   [[ 1.42087153 -1.80407986  8.53650347]]"
   ]
  }
 ],
 "metadata": {
  "kernelspec": {
   "display_name": "Python 3 (ipykernel)",
   "language": "python",
   "name": "python3"
  },
  "language_info": {
   "codemirror_mode": {
    "name": "ipython",
    "version": 3
   },
   "file_extension": ".py",
   "mimetype": "text/x-python",
   "name": "python",
   "nbconvert_exporter": "python",
   "pygments_lexer": "ipython3",
   "version": "3.9.12"
  }
 },
 "nbformat": 4,
 "nbformat_minor": 5
}
