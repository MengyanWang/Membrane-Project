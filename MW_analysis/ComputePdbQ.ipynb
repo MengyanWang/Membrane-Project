{
 "cells": [
  {
   "cell_type": "code",
   "execution_count": 159,
   "id": "434deaaf",
   "metadata": {},
   "outputs": [],
   "source": [
    "import sys\n",
    "from VectorAlgebra import *"
   ]
  },
  {
   "cell_type": "code",
   "execution_count": 160,
   "id": "b30c9a55",
   "metadata": {},
   "outputs": [],
   "source": [
    "sys.argv[1] = \"1r69.pdb\"\n",
    "sys.argv[2] = \"1r69.pdb\""
   ]
  },
  {
   "cell_type": "code",
   "execution_count": 161,
   "id": "b4a07d6f",
   "metadata": {},
   "outputs": [],
   "source": [
    "struct_id = sys.argv[1]\n",
    "struct_id2 = sys.argv[2]\n",
    "\n",
    "pdb_file = sys.argv[1]\n",
    "pdb_file2 = sys.argv[2]"
   ]
  },
  {
   "cell_type": "code",
   "execution_count": 162,
   "id": "7adc6313",
   "metadata": {},
   "outputs": [],
   "source": [
    "from Bio.PDB.PDBParser import PDBParser"
   ]
  },
  {
   "cell_type": "code",
   "execution_count": 163,
   "id": "db1cce06",
   "metadata": {},
   "outputs": [],
   "source": [
    "p = PDBParser(PERMISSIVE=1)"
   ]
  },
  {
   "cell_type": "code",
   "execution_count": 166,
   "id": "9a018a29",
   "metadata": {},
   "outputs": [
    {
     "name": "stderr",
     "output_type": "stream",
     "text": [
      "/home/mw88/miniconda3/lib/python3.9/site-packages/Bio/PDB/PDBParser.py:395: PDBConstructionWarning: Ignoring unrecognized record 'END' at line 1001\n",
      "  warnings.warn(\n"
     ]
    }
   ],
   "source": [
    "s = p.get_structure(struct_id, pdb_file)\n",
    "ca_atoms_pdb = []\n",
    "pdb_chain_id = []\n",
    "\n",
    "chains = s[0].get_list()\n",
    "ichain = 0\n",
    "for chain in chains:\n",
    "    ichain = ichain + 1\n",
    "    for res in chain:\n",
    "        is_regular_res = res.has_id('CA') and res.has_id('O')\n",
    "        res_id = res.get_id()[0]\n",
    "#         print(res_id)\n",
    "        if (res_id==' ' or res_id=='H_MSE' or res_id=='H_M3L' or res_id=='H_CAS') and is_regular_res:\n",
    "            ca_atoms_pdb.append(res['CA'].get_coord())\n",
    "            pdb_chain_id.append(ichain)\n",
    "#             print(len(ca_atoms_pdb))"
   ]
  },
  {
   "cell_type": "code",
   "execution_count": 167,
   "id": "e1e2bb51",
   "metadata": {},
   "outputs": [
    {
     "name": "stderr",
     "output_type": "stream",
     "text": [
      "/home/mw88/miniconda3/lib/python3.9/site-packages/Bio/PDB/PDBParser.py:395: PDBConstructionWarning: Ignoring unrecognized record 'END' at line 1001\n",
      "  warnings.warn(\n"
     ]
    }
   ],
   "source": [
    "s2 = p.get_structure(struct_id2, pdb_file2)\n",
    "ca_atoms_pdb2 = []\n",
    "pdb_chain_id2 = []\n",
    "\n",
    "chains = s2[0].get_list()\n",
    "ichain = 0\n",
    "for chain in chains:\n",
    "    ichain = ichain + 1\n",
    "    for res in chain:\n",
    "        is_regular_res = res.has_id('CA') and res.has_id('O')\n",
    "        res_id = res.get_id()[0]\n",
    "#         print(res_id)\n",
    "        if (res_id==' ' or res_id=='H_MSE' or res_id=='H_M3L' or res_id=='H_CAS') and is_regular_res:\n",
    "            ca_atoms_pdb2.append(res['CA'].get_coord())\n",
    "            pdb_chain_id2.append(ichain)"
   ]
  },
  {
   "cell_type": "code",
   "execution_count": 168,
   "id": "67d4fdf0",
   "metadata": {},
   "outputs": [],
   "source": [
    "sigma = []\n",
    "sigma_sq = []\n",
    "sigma_exp = 0.15\n",
    "\n",
    "for i in range (0,len(ca_atoms_pdb)+1):\n",
    "    sigma.append((1+i)**sigma_exp)\n",
    "    sigma_sq.append(sigma[-1]*sigma[-1])"
   ]
  },
  {
   "cell_type": "code",
   "execution_count": 169,
   "id": "e30e6e0e",
   "metadata": {},
   "outputs": [],
   "source": [
    "def computeQ():\n",
    "    Q = {}\n",
    "    norm = {}\n",
    "    N = len(ca_atoms_pdb)\n",
    "    for ia in range(0,N):\n",
    "        for ja in range(ia+3,N):\n",
    "            r = vabs(vector(ca_atoms_pdb[ia], ca_atoms_pdb[ja]))\n",
    "            rn = vabs(vector(ca_atoms_pdb2[ia], ca_atoms_pdb2[ja]))\n",
    "            dr = r - rn\n",
    "            index = 1\n",
    "            if not index in Q:\n",
    "                Q[index] = 0.0\n",
    "                norm[index] = 0\n",
    "            Q[index] = Q[index] + exp(-dr*dr/(2*sigma_sq[ja-ia]))\n",
    "            norm[index] = norm[index] + 1\n",
    "    for key in Q:\n",
    "        Q[key]=Q[key]/norm[key]\n",
    "    return Q"
   ]
  },
  {
   "cell_type": "code",
   "execution_count": 170,
   "id": "d2475624",
   "metadata": {},
   "outputs": [
    {
     "name": "stdout",
     "output_type": "stream",
     "text": [
      "{1: 1.0}\n"
     ]
    }
   ],
   "source": [
    "q = computeQ()\n",
    "print(q)"
   ]
  },
  {
   "cell_type": "code",
   "execution_count": null,
   "id": "3c66ddd4",
   "metadata": {},
   "outputs": [],
   "source": []
  }
 ],
 "metadata": {
  "kernelspec": {
   "display_name": "Python 3 (ipykernel)",
   "language": "python",
   "name": "python3"
  },
  "language_info": {
   "codemirror_mode": {
    "name": "ipython",
    "version": 3
   },
   "file_extension": ".py",
   "mimetype": "text/x-python",
   "name": "python",
   "nbconvert_exporter": "python",
   "pygments_lexer": "ipython3",
   "version": "3.9.12"
  }
 },
 "nbformat": 4,
 "nbformat_minor": 5
}
